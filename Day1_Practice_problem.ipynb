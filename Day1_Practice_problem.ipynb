{
  "nbformat": 4,
  "nbformat_minor": 0,
  "metadata": {
    "colab": {
      "provenance": []
    },
    "kernelspec": {
      "name": "python3",
      "display_name": "Python 3"
    },
    "language_info": {
      "name": "python"
    }
  },
  "cells": [
    {
      "cell_type": "code",
      "execution_count": 3,
      "metadata": {
        "colab": {
          "base_uri": "https://localhost:8080/"
        },
        "id": "44l0aZaZnbmG",
        "outputId": "268054e8-187f-4012-8477-fe642386ef7b"
      },
      "outputs": [
        {
          "output_type": "stream",
          "name": "stdout",
          "text": [
            "Hello\n"
          ]
        }
      ],
      "source": [
        "#1.\n",
        "str1=\"Hello, World!\"\n",
        "str2=str1[0:5]\n",
        "print(str2)"
      ]
    },
    {
      "cell_type": "code",
      "source": [
        "#2.\n",
        "str1=\"Python is fun\"\n",
        "str2=str1[7:9]\n",
        "print(str2)"
      ],
      "metadata": {
        "colab": {
          "base_uri": "https://localhost:8080/"
        },
        "id": "nU2UAsPKoXTo",
        "outputId": "d792c911-fc3e-4e1b-c067-988b44e496cd"
      },
      "execution_count": 5,
      "outputs": [
        {
          "output_type": "stream",
          "name": "stdout",
          "text": [
            "is\n"
          ]
        }
      ]
    },
    {
      "cell_type": "code",
      "source": [
        "#3.\n",
        "str1=\"Programming\"\n",
        "str2=str1[3:7]\n",
        "print(str2)"
      ],
      "metadata": {
        "colab": {
          "base_uri": "https://localhost:8080/"
        },
        "id": "qbcCdzUqpMg6",
        "outputId": "3d15b234-4d39-4842-85c3-bfb08be5682a"
      },
      "execution_count": 7,
      "outputs": [
        {
          "output_type": "stream",
          "name": "stdout",
          "text": [
            "gram\n"
          ]
        }
      ]
    },
    {
      "cell_type": "code",
      "source": [
        "#4.\n",
        "str1=\"abcdefgh\"\n",
        "print(str1[0::2])"
      ],
      "metadata": {
        "colab": {
          "base_uri": "https://localhost:8080/"
        },
        "id": "p4mNajZFqfN8",
        "outputId": "ec805f93-e3cb-4e12-fbac-47636f0ea500"
      },
      "execution_count": 13,
      "outputs": [
        {
          "output_type": "stream",
          "name": "stdout",
          "text": [
            "aceg\n"
          ]
        }
      ]
    },
    {
      "cell_type": "code",
      "source": [
        "#5.\n",
        "str1=\"abcdefg\"\n",
        "str2=str1[-3:]\n",
        "print(str2)\n"
      ],
      "metadata": {
        "colab": {
          "base_uri": "https://localhost:8080/"
        },
        "id": "n-VSQ1ygq3Z2",
        "outputId": "e07d0fcb-182d-417a-c885-b44051b87303"
      },
      "execution_count": 11,
      "outputs": [
        {
          "output_type": "stream",
          "name": "stdout",
          "text": [
            "efg\n"
          ]
        }
      ]
    },
    {
      "cell_type": "code",
      "source": [
        "#6.\n",
        "str1=\"Data Science\"\n",
        "str2=str1[-3:]\n",
        "print(str2)\n"
      ],
      "metadata": {
        "colab": {
          "base_uri": "https://localhost:8080/"
        },
        "id": "Mg0uCOcJrZgD",
        "outputId": "a00f9f3c-502e-4d1c-da04-3529ffdd72d7"
      },
      "execution_count": 12,
      "outputs": [
        {
          "output_type": "stream",
          "name": "stdout",
          "text": [
            "nce\n"
          ]
        }
      ]
    },
    {
      "cell_type": "code",
      "source": [
        "#7.\n",
        "str1=\"abcdefghij\"\n",
        "print(str1[1::2])"
      ],
      "metadata": {
        "colab": {
          "base_uri": "https://localhost:8080/"
        },
        "id": "LPYJiUU1sA1L",
        "outputId": "538a590d-99fa-4525-c52e-3fe8b3b09de7"
      },
      "execution_count": 15,
      "outputs": [
        {
          "output_type": "stream",
          "name": "stdout",
          "text": [
            "bdfhj\n"
          ]
        }
      ]
    },
    {
      "cell_type": "code",
      "source": [
        "#8.\n",
        "str1=\"1234567890\"\n",
        "print(str1[0::2])"
      ],
      "metadata": {
        "colab": {
          "base_uri": "https://localhost:8080/"
        },
        "id": "0_e2sYtxs-fu",
        "outputId": "e9b61ae4-7aaa-4a35-cafa-048a25d0b1a4"
      },
      "execution_count": 16,
      "outputs": [
        {
          "output_type": "stream",
          "name": "stdout",
          "text": [
            "13579\n"
          ]
        }
      ]
    },
    {
      "cell_type": "code",
      "source": [
        "#9.\n",
        "str1=\"Hello\"\n",
        "print(str1[4::-1])"
      ],
      "metadata": {
        "colab": {
          "base_uri": "https://localhost:8080/"
        },
        "id": "AQEE07A-tWgU",
        "outputId": "ae5929b9-5bff-4171-d826-9f8b2c2e2699"
      },
      "execution_count": 18,
      "outputs": [
        {
          "output_type": "stream",
          "name": "stdout",
          "text": [
            "olleH\n"
          ]
        }
      ]
    },
    {
      "cell_type": "code",
      "source": [
        "#10.\n",
        "str1=\"abcdefghijk\"\n",
        "str2=str1[0::2]\n",
        "print(str2)"
      ],
      "metadata": {
        "colab": {
          "base_uri": "https://localhost:8080/"
        },
        "id": "P_ElNZalttk8",
        "outputId": "a9dfaf74-0f1e-41fd-80cd-eb9eae926f82"
      },
      "execution_count": 19,
      "outputs": [
        {
          "output_type": "stream",
          "name": "stdout",
          "text": [
            "acegik\n"
          ]
        }
      ]
    },
    {
      "cell_type": "code",
      "source": [],
      "metadata": {
        "id": "2xaqzX3EuGn9"
      },
      "execution_count": null,
      "outputs": []
    }
  ]
}